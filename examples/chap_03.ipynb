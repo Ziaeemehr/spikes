{
 "cells": [
  {
   "cell_type": "code",
   "execution_count": 1,
   "metadata": {},
   "outputs": [],
   "source": [
    "import sympy as sp\n",
    "import numpy as np\n",
    "from sympy import lambdify\n",
    "import matplotlib.pyplot as plt\n",
    "from scipy.linalg import eig, inv\n",
    "from scipy.integrate import odeint\n",
    "from IPython.display import display, Math"
   ]
  },
  {
   "cell_type": "markdown",
   "metadata": {},
   "source": [
    "\n",
    "#### Analytical Solution for $\\frac{d\\vec{X}}{dt} = A\\vec{X} + \\vec{B}$\n",
    "\n",
    "Let's derive the analytical solution step-by-step for the differential equation $\\frac{d\\vec{X}}{dt} = A\\vec{X} + \\vec{B}$, assuming $\\lambda_1 \\neq \\lambda_2$.\n",
    "\n",
    "##### Steps to Solve Analytically\n",
    "\n",
    "1. Find the Equilibrium State\n",
    "The equilibrium state $\\vec{X}_{eq}$ is given by:\n",
    "$$\n",
    "\\vec{X}_{eq} = -A^{-1} \\vec{B}\n",
    "$$\n",
    "\n",
    "2. Determine the Eigenvalues and Eigenvectors\n",
    "The eigenvalues $\\lambda_1$ and $\\lambda_2$ are solutions to the characteristic equation:\n",
    "$$\n",
    "\\det(A - \\lambda I) = 0\n",
    "$$\n",
    "where $I$ is the identity matrix.\n",
    "\n",
    "Let's denote the eigenvectors corresponding to $\\lambda_1$ and $\\lambda_2$ as $\\vec{v}_1$ and $\\vec{v}_2$, respectively.\n",
    "\n",
    "3. General Solution\n",
    "The general solution for the system $\\frac{d\\vec{X}}{dt} = A\\vec{X}$ can be written as:\n",
    "$$\n",
    "\\vec{X}(t) = c_1 \\vec{v}_1 e^{\\lambda_1 t} + c_2 \\vec{v}_2 e^{\\lambda_2 t}\n",
    "$$\n",
    "where $c_1$ and $c_2$ are constants determined by initial conditions.\n",
    "\n",
    "4. Incorporate the Equilibrium State\n",
    "To incorporate $\\vec{B}$, we use the transformation $\\vec{X} = \\vec{X}_{hom} + \\vec{X}_{eq}$, where $\\vec{X}_{hom}$ is the homogeneous solution. Thus:\n",
    "$$\n",
    "\\vec{X}(t) = \\vec{X}_{hom}(t) + \\vec{X}_{eq}\n",
    "$$\n",
    "$$\n",
    "\\vec{X}(t) = c_1 \\vec{v}_1 e^{\\lambda_1 t} + c_2 \\vec{v}_2 e^{\\lambda_2 t} + \\vec{X}_{eq}\n",
    "$$\n",
    "\n",
    "This gives us the analytical solution in the form:\n",
    "$$\n",
    "\\vec{X}(t) = \\begin{pmatrix} \n",
    "a_1 e^{\\lambda_1 t} + a_2 e^{\\lambda_2 t} \\\\ \n",
    "b_1 e^{\\lambda_1 t} + b_2 e^{\\lambda_2 t} \n",
    "\\end{pmatrix} + \\vec{X}_{eq}\n",
    "$$\n",
    "\n",
    "\n",
    "\n",
    "5. General Solution for Repeated Eigenvalues\n",
    "\n",
    "The general solution when $\\lambda_1 = \\lambda_2 = \\lambda$ is:\n",
    "$$\n",
    "\\vec{X}(t) = (c_1 + c_2 t) e^{\\lambda t} \\vec{v} + \\vec{X}_{eq}\n",
    "$$"
   ]
  },
  {
   "cell_type": "code",
   "execution_count": 2,
   "metadata": {},
   "outputs": [],
   "source": [
    "def solve_linear_system_numerical(A, B, X0, t):\n",
    "    \"\"\"\n",
    "    Solves the differential equation dX/dt = AX + B.\n",
    "\n",
    "    Parameters:\n",
    "    A (numpy.ndarray): Coefficient matrix.\n",
    "    B (numpy.ndarray): Constant vector.\n",
    "    X0 (numpy.ndarray): Initial condition vector.\n",
    "    t (numpy.ndarray): Array of time points at which to solve.\n",
    "\n",
    "    Returns:\n",
    "    numpy.ndarray: Array of solution vectors at each time point.\n",
    "    \"\"\"\n",
    "    # Equilibrium state\n",
    "    X_eq = -inv(A) @ B\n",
    "\n",
    "    # Eigenvalues and eigenvectors\n",
    "    eigenvalues, eigenvectors = eig(A)\n",
    "\n",
    "    # Solve for the constants a1, a2, b1, b2\n",
    "    def system(X, t):\n",
    "        return A @ X + B\n",
    "\n",
    "    sol = odeint(system, X0, t)\n",
    "\n",
    "    return {\"x\": sol, \"xeq\": X_eq, \"ev\": eigenvalues, \"evec\": eigenvectors}\n"
   ]
  },
  {
   "cell_type": "markdown",
   "metadata": {},
   "source": [
    "#### Numerical solution"
   ]
  },
  {
   "cell_type": "code",
   "execution_count": 3,
   "metadata": {},
   "outputs": [
    {
     "data": {
      "text/plain": [
       "(100, 2)"
      ]
     },
     "execution_count": 3,
     "metadata": {},
     "output_type": "execute_result"
    }
   ],
   "source": [
    "B_np = np.array([7, 1])\n",
    "X0_np = np.array([0, 0])\n",
    "A_np = np.array([[-9, -5], [1, -3]])\n",
    "t_range = np.linspace(0, 3, 100)\n",
    "solution_num = solve_linear_system_numerical(\n",
    "    A_np, B_np, X0_np, t_range\n",
    ")\n",
    "solution_num[\"x\"].shape"
   ]
  },
  {
   "cell_type": "markdown",
   "metadata": {},
   "source": [
    "#### Analytical solution"
   ]
  },
  {
   "cell_type": "code",
   "execution_count": 4,
   "metadata": {},
   "outputs": [
    {
     "data": {
      "text/latex": [
       "$\\displaystyle x_1(t) = \\frac{1}{2} + \\frac{3 e^{- 4 t}}{4} - \\frac{5 e^{- 8 t}}{4}$"
      ],
      "text/plain": [
       "<IPython.core.display.Math object>"
      ]
     },
     "metadata": {},
     "output_type": "display_data"
    },
    {
     "data": {
      "text/latex": [
       "$\\displaystyle x_2(t) = \\frac{1}{2} - \\frac{3 e^{- 4 t}}{4} + \\frac{e^{- 8 t}}{4}$"
      ],
      "text/plain": [
       "<IPython.core.display.Math object>"
      ]
     },
     "metadata": {},
     "output_type": "display_data"
    },
    {
     "name": "stdout",
     "output_type": "stream",
     "text": [
      "Equilibrium state: [0.5 0.5]\n",
      "Eigenvalues: [-8.+0.j -4.+0.j]\n"
     ]
    },
    {
     "data": {
      "image/png": "[encoded data removed]",
      "text/plain": [
       "<Figure size 500x300 with 1 Axes>"
      ]
     },
     "metadata": {},
     "output_type": "display_data"
    }
   ],
   "source": [
    "\n",
    "t = sp.Symbol('t')\n",
    "x1, x2 = sp.Function('x1')(t), sp.Function('x2')(t)\n",
    "A = sp.Matrix(A_np)\n",
    "X = sp.Matrix([x1, x2])\n",
    "B = sp.Matrix(B_np)\n",
    "X0 = sp.Matrix(X0_np)\n",
    "\n",
    "dx_dt = A * X + B\n",
    "system = [sp.Eq(sp.diff(x1, t), dx_dt[0]), sp.Eq(sp.diff(x2, t), dx_dt[1])]\n",
    "sol_hom = sp.dsolve(system)\n",
    "\n",
    "t0 = 0\n",
    "constants = sp.solve(\n",
    "    [sol.rhs.subs(t, t0) - x0 for sol, x0 in zip(sol_hom, X0)]\n",
    ")\n",
    "\n",
    "sol_hom_constants = [sol.rhs.subs(constants) for sol in sol_hom]\n",
    "final_solution = [sol_hom for sol_hom in sol_hom_constants]\n",
    "\n",
    "# display solutions\n",
    "for i, sol in enumerate(final_solution, 1):\n",
    "    display(Math(f'x_{i}(t) = {sp.latex(sol)}'))\n",
    "    \n",
    "# evaluate solution\n",
    "x_functions = [lambdify((t,), sol, \"numpy\") for sol in final_solution]\n",
    "x_values = [x_func(t_range) for x_func in x_functions]\n",
    "\n",
    "# plot solutions\n",
    "plt.figure(figsize=(5,3))\n",
    "for i in range(2):\n",
    "    plt.plot(t_range, x_values[i], label=f'$X_{i} a$', alpha=0.5)\n",
    "    \n",
    "# plot numerical solution to compare\n",
    "for i in range(2):\n",
    "    plt.plot(t_range, solution_num['x'][:, i], label=f'$X_{i} num$', ls='--', alpha=0.5)\n",
    "    \n",
    "plt.legend(loc='upper right');\n",
    "print(\"Equilibrium state:\", solution_num['xeq'])\n",
    "print(\"Eigenvalues:\", solution_num['ev'])"
   ]
  },
  {
   "cell_type": "markdown",
   "metadata": {},
   "source": [
    "We can define the above process as a function `solve_system_of_equations` that takes in the coefficient matrix `A`, rhs of `B` and initial conditions `X0` and time range `t_range`. The function will return the final analytical solution and evalution of the function at fiven time interval.\n"
   ]
  },
  {
   "cell_type": "code",
   "execution_count": 9,
   "metadata": {},
   "outputs": [
    {
     "data": {
      "text/latex": [
       "$\\displaystyle x_1(t) = - \\frac{\\left(3 + \\sqrt{33}\\right) \\left(\\frac{25}{4} - \\frac{37 \\sqrt{33}}{44}\\right) e^{\\frac{t \\left(5 - \\sqrt{33}\\right)}{2}}}{6} - \\frac{\\left(3 - \\sqrt{33}\\right) \\left(\\frac{37 \\sqrt{33}}{44} + \\frac{25}{4}\\right) e^{\\frac{t \\left(5 + \\sqrt{33}\\right)}{2}}}{6} + 4$"
      ],
      "text/plain": [
       "<IPython.core.display.Math object>"
      ]
     },
     "metadata": {},
     "output_type": "display_data"
    },
    {
     "data": {
      "text/latex": [
       "$\\displaystyle x_2(t) = \\left(\\frac{25}{4} - \\frac{37 \\sqrt{33}}{44}\\right) e^{\\frac{t \\left(5 - \\sqrt{33}\\right)}{2}} + \\left(\\frac{37 \\sqrt{33}}{44} + \\frac{25}{4}\\right) e^{\\frac{t \\left(5 + \\sqrt{33}\\right)}{2}} - \\frac{9}{2}$"
      ],
      "text/plain": [
       "<IPython.core.display.Math object>"
      ]
     },
     "metadata": {},
     "output_type": "display_data"
    }
   ],
   "source": [
    "from spikes.solver import solve_system_of_equations\n",
    "\n",
    "A_np = np.array([[1, 2], [3, 4]])\n",
    "B_np = np.array([5, 6])\n",
    "X0_np = np.array([7, 8])\n",
    "t_range = np.linspace(0, 1, 100)\n",
    "\n",
    "final_solution, x_values = solve_system_of_equations(A_np, B_np, X0_np, t_range)\n",
    "\n",
    "for i, sol in enumerate(final_solution, 1):\n",
    "    display(Math(f'x_{i}(t) = {sp.latex(sol)}'))\n"
   ]
  },
  {
   "cell_type": "code",
   "execution_count": 10,
   "metadata": {},
   "outputs": [
    {
     "name": "stdout",
     "output_type": "stream",
     "text": [
      "Equilibrium state: [ 4.  -4.5]\n",
      "Eigenvalues: [-0.37228132+0.j  5.37228132+0.j]\n"
     ]
    },
    {
     "data": {
      "image/png": "[encoded data removed]",
      "text/plain": [
       "<Figure size 500x300 with 1 Axes>"
      ]
     },
     "metadata": {},
     "output_type": "display_data"
    }
   ],
   "source": [
    "solution_num = solve_linear_system_numerical(\n",
    "    A_np, B_np, X0_np, t_range\n",
    ")\n",
    "# solution_num[\"x\"].shape\n",
    "\n",
    "plt.figure(figsize=(5,3))\n",
    "for i in range(2):\n",
    "    plt.plot(t_range, x_values[i], label=f'$X_{i} a$', alpha=0.5)\n",
    "    \n",
    "# plot numerical solution to compare\n",
    "for i in range(2):\n",
    "    plt.plot(t_range, solution_num['x'][:, i], label=f'$X_{i} num$', ls='--', alpha=0.5)\n",
    "    \n",
    "plt.legend(loc='upper right');\n",
    "print(\"Equilibrium state:\", solution_num['xeq'])\n",
    "print(\"Eigenvalues:\", solution_num['ev'])"
   ]
  },
  {
   "cell_type": "code",
   "execution_count": null,
   "metadata": {},
   "outputs": [],
   "source": []
  }
 ],
 "metadata": {
  "language_info": {
   "name": "python"
  }
 },
 "nbformat": 4,
 "nbformat_minor": 2
}
