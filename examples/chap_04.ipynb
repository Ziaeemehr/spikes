{
 "cells": [
  {
   "cell_type": "code",
   "execution_count": 5,
   "metadata": {},
   "outputs": [],
   "source": [
    "import sympy as sp\n",
    "import numpy as np\n",
    "from scipy.linalg import eig\n",
    "from spikes.solver import solve_linear_system_sympy"
   ]
  },
  {
   "cell_type": "markdown",
   "metadata": {},
   "source": [
    "### Eq. 4.2"
   ]
  },
  {
   "cell_type": "code",
   "execution_count": 13,
   "metadata": {},
   "outputs": [
    {
     "data": {
      "text/plain": [
       "array([-3.5+14.72243186j, -3.5-14.72243186j, -8.  +0.j        ])"
      ]
     },
     "execution_count": 13,
     "metadata": {},
     "output_type": "execute_result"
    }
   ],
   "source": [
    "A = np.array([[-5, -10, 7], [7, -5, -10], [-10, 7, -5]])\n",
    "B = np.array([1,1,1])\n",
    "X0 = np.array([0, 0, 0])\n",
    "\n",
    "eigenvalues, eigenvectors = eig(A)\n",
    "eigenvalues"
   ]
  },
  {
   "cell_type": "code",
   "execution_count": 10,
   "metadata": {},
   "outputs": [
    {
     "name": "stdout",
     "output_type": "stream",
     "text": [
      "x1(t) = exp(-8*t) + 4*sqrt(3)*exp(-7*t/2)*sin(17*sqrt(3)*t/2)\n",
      "x2(t) = exp(-8*t) - 2*sqrt(3)*exp(-7*t/2)*sin(17*sqrt(3)*t/2) - 6*exp(-7*t/2)*cos(17*sqrt(3)*t/2)\n",
      "x3(t) = exp(-8*t) - 2*sqrt(3)*exp(-7*t/2)*sin(17*sqrt(3)*t/2) + 6*exp(-7*t/2)*cos(17*sqrt(3)*t/2)\n"
     ]
    }
   ],
   "source": [
    "import sympy as sp\n",
    "import numpy as np\n",
    "\n",
    "# Define the symbolic variables\n",
    "t = sp.Symbol('t')\n",
    "x1, x2, x3 = sp.Function('x1')(t), sp.Function('x2')(t), sp.Function('x3')(t)\n",
    "\n",
    "# Define the matrix A\n",
    "A = sp.Matrix([[-5, -10, 7],\n",
    "               [7, -5, -10],\n",
    "               [-10, 7, -5]])\n",
    "\n",
    "# Define the vector X\n",
    "X = sp.Matrix([x1, x2, x3])\n",
    "\n",
    "# Define the system of differential equations\n",
    "dX_dt = A * X\n",
    "\n",
    "# Create the system of differential equations\n",
    "system = [sp.Eq(sp.diff(x1, t), dX_dt[0]),\n",
    "          sp.Eq(sp.diff(x2, t), dX_dt[1]),\n",
    "          sp.Eq(sp.diff(x3, t), dX_dt[2])]\n",
    "\n",
    "# Solve the system of differential equations\n",
    "solution = sp.dsolve(system)\n",
    "\n",
    "# Define the initial conditions\n",
    "X0 = sp.Matrix([1, -5, 7])\n",
    "\n",
    "# Apply the initial conditions to find the constants\n",
    "t0 = 0\n",
    "constants = sp.solve([sol.rhs.subs(t, t0) - x0 for sol, x0 in zip(solution, X0)])\n",
    "\n",
    "# Substitute the constants back into the solution\n",
    "final_solution = [sol.rhs.subs(constants) for sol in solution]\n",
    "\n",
    "# Print the final solution\n",
    "for i, sol in enumerate(final_solution, 1):\n",
    "    print(f\"x{i}(t) = {sol}\")"
   ]
  },
  {
   "cell_type": "code",
   "execution_count": null,
   "metadata": {},
   "outputs": [],
   "source": []
  }
 ],
 "metadata": {
  "language_info": {
   "name": "python"
  }
 },
 "nbformat": 4,
 "nbformat_minor": 2
}
